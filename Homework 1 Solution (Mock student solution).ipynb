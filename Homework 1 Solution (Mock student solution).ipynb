{
 "cells": [
  {
   "cell_type": "code",
   "execution_count": 1,
   "metadata": {},
   "outputs": [],
   "source": [
    "import random\n",
    "import matplotlib.pyplot as plt"
   ]
  },
  {
   "cell_type": "code",
   "execution_count": 3,
   "metadata": {},
   "outputs": [],
   "source": [
    "def flip() -> str:\n",
    "    \"\"\"\n",
    "    simulate a fair coin flip\n",
    "    output: \"H\" if coin was heads, \"T\" otherwise. 50% probability\n",
    "            of each\n",
    "    \"\"\"\n",
    "    return 'H' if random.randint(0, 1) else 'T'\n",
    "\n",
    "def flipper(n: int) -> tuple:\n",
    "    \"\"\"\n",
    "    simulate n coin flips\n",
    "    n: an integer, # of coin flips to run\n",
    "    output: (# heads, # tails) tuple, with 50% probability\n",
    "            of heads and 50% probability of tails, and\n",
    "            # heads + # tails = n\n",
    "    \"\"\"\n",
    "    heads = 0\n",
    "    tails = 0\n",
    "    for _ in range(n):\n",
    "        if flip() == 'H':\n",
    "            heads += 1\n",
    "        else:\n",
    "            tails += 1\n",
    "\n",
    "    return heads, tails"
   ]
  },
  {
   "cell_type": "code",
   "execution_count": 9,
   "metadata": {},
   "outputs": [
    {
     "data": {
      "image/png": "[encoded data removed]",
      "text/plain": [
       "<Figure size 432x288 with 1 Axes>"
      ]
     },
     "metadata": {
      "needs_background": "light"
     },
     "output_type": "display_data"
    },
    {
     "data": {
      "image/png": "[encoded data removed]",
      "text/plain": [
       "<Figure size 432x288 with 1 Axes>"
      ]
     },
     "metadata": {
      "needs_background": "light"
     },
     "output_type": "display_data"
    }
   ],
   "source": [
    "plt.bar(['H', 'T'], flipper(15000))\n",
    "plt.show()\n",
    "\n",
    "plt.bar(['H', 'T'], flipper(500))\n",
    "plt.show()"
   ]
  },
  {
   "cell_type": "code",
   "execution_count": 8,
   "metadata": {},
   "outputs": [],
   "source": [
    "def unfair_flip(p_head: float = 0.3) -> str:\n",
    "    \"\"\"\n",
    "    simulate a coin flip\n",
    "    p_head: a number between 0 and 1, 0.3 by default.\n",
    "    output: \"H\" if coin was heads, \"T\" otherwise. p_head probability\n",
    "            of each. \n",
    "    \"\"\"\n",
    "    assert 0 <= p_head <= 1, 'p_head must be in [0, 1] range'\n",
    "    if random.random() <= p_head:\n",
    "        return 'H'\n",
    "    else:\n",
    "        return 'T'\n",
    "\n",
    "def unfair_flipper(n: int, p_head: float = 0.3) -> tuple:\n",
    "    \"\"\"\n",
    "    simulate n coin flips\n",
    "    n: an integer, # of coin flips to run\n",
    "    p_head: a number between 0 and 1, 0.3 by default.\n",
    "    output: (# heads, # tails) tuple, with 50% probability\n",
    "            of heads and 50% probability of tails, and\n",
    "            # heads + # tails = n\n",
    "    \"\"\"\n",
    "    assert 0 <= p_head <= 1, 'p_head must be in [0, 1] range'\n",
    "    heads = 0\n",
    "    tails = 0\n",
    "    for _ in range(n):\n",
    "        res = unfair_flip(p_head)\n",
    "        if res == 'H':\n",
    "            heads += 1\n",
    "        else:\n",
    "            tails += 1\n",
    "        \n",
    "        return (heads, tails)"
   ]
  },
  {
   "cell_type": "code",
   "execution_count": 7,
   "metadata": {},
   "outputs": [
    {
     "data": {
      "image/png": "[encoded data removed]",
      "text/plain": [
       "<Figure size 432x288 with 1 Axes>"
      ]
     },
     "metadata": {
      "needs_background": "light"
     },
     "output_type": "display_data"
    },
    {
     "data": {
      "image/png": "[encoded data removed]",
      "text/plain": [
       "<Figure size 432x288 with 1 Axes>"
      ]
     },
     "metadata": {
      "needs_background": "light"
     },
     "output_type": "display_data"
    }
   ],
   "source": [
    "plt.bar(['H', 'T'], unfair_flipper(1000))\n",
    "plt.show()\n",
    "plt.bar(['H', 'T'], unfair_flipper(1000, p_head=0.1))\n",
    "plt.show()"
   ]
  }
 ],
 "metadata": {
  "kernelspec": {
   "display_name": "Python 3",
   "language": "python",
   "name": "python3"
  },
  "language_info": {
   "codemirror_mode": {
    "name": "ipython",
    "version": 3
   },
   "file_extension": ".py",
   "mimetype": "text/x-python",
   "name": "python",
   "nbconvert_exporter": "python",
   "pygments_lexer": "ipython3",
   "version": "3.7.3"
  }
 },
 "nbformat": 4,
 "nbformat_minor": 2
}
